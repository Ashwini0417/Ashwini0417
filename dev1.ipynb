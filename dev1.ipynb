{
  "nbformat": 4,
  "nbformat_minor": 0,
  "metadata": {
    "colab": {
      "name": "Untitled",
      "provenance": [],
      "authorship_tag": "ABX9TyPR3DzutvJD5QETytW8w18r",
      "include_colab_link": true
    },
    "kernelspec": {
      "name": "python3",
      "display_name": "Python 3"
    }
  },
  "cells": [
    {
      "cell_type": "markdown",
      "metadata": {
        "id": "view-in-github",
        "colab_type": "text"
      },
      "source": [
        "<a href=\"https://colab.research.google.com/github/Ashwini0417/Ashwini0417/blob/main/dev1.ipynb\" target=\"_parent\"><img src=\"https://colab.research.google.com/assets/colab-badge.svg\" alt=\"Open In Colab\"/></a>"
      ]
    },
    {
      "cell_type": "code",
      "metadata": {
        "colab": {
          "base_uri": "https://localhost:8080/"
        },
        "id": "cC1N3DC3MOId",
        "outputId": "e3605d22-a6ab-4e76-fd13-a19d77601994"
      },
      "source": [
        "#numpy\r\n",
        "import numpy as np\r\n",
        "\r\n",
        "a = np.array(42)\r\n",
        "b = np.array([1, 2, 3, 4, 5])\r\n",
        "c = np.array([[1, 2, 3], [4, 5, 6]])\r\n",
        "d = np.array([[[1, 2, 3], [4, 5, 6]], [[1, 2, 3], [4, 5, 6]]])\r\n",
        "\r\n",
        "print(a.ndim)\r\n",
        "print(b.ndim)\r\n",
        "print(c.ndim)\r\n",
        "print(d.ndim)"
      ],
      "execution_count": 1,
      "outputs": [
        {
          "output_type": "stream",
          "text": [
            "0\n",
            "1\n",
            "2\n",
            "3\n"
          ],
          "name": "stdout"
        }
      ]
    },
    {
      "cell_type": "code",
      "metadata": {
        "colab": {
          "base_uri": "https://localhost:8080/"
        },
        "id": "xpsUSc1XMvJy",
        "outputId": "4c5d08c3-bf65-4040-8d57-b27c321f9afc"
      },
      "source": [
        "import numpy as np\r\n",
        "\r\n",
        "arr = np.array([1, 2, 3, 4], ndmin=5)\r\n",
        "\r\n",
        "print(arr)\r\n",
        "print('number of dimensions :', arr.ndim)\r\n"
      ],
      "execution_count": 2,
      "outputs": [
        {
          "output_type": "stream",
          "text": [
            "[[[[[1 2 3 4]]]]]\n",
            "number of dimensions : 5\n"
          ],
          "name": "stdout"
        }
      ]
    }
  ]
}